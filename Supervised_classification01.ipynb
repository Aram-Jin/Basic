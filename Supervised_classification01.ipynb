{
 "cells": [
  {
   "cell_type": "markdown",
   "metadata": {},
   "source": [
    "지도학습 기초 - 1. 분류"
   ]
  },
  {
   "cell_type": "markdown",
   "metadata": {},
   "source": [
    "(1) 환경 설정"
   ]
  },
  {
   "cell_type": "code",
   "execution_count": null,
   "metadata": {},
   "outputs": [],
   "source": [
    "# 1. 패키지 임포트\n",
    "\n",
    "#from C510_01_supervised_learning_classifier import *\n",
    "\n",
    "import numpy\n",
    "import os\n",
    "import pandas\n",
    "import matplotlib.pyplot as plt\n",
    "import matplotlib.font_manager as fm\n",
    "import seaborn as sns\n",
    "import warnings\n",
    "from IPython.display import display"
   ]
  },
  {
   "cell_type": "code",
   "execution_count": null,
   "metadata": {},
   "outputs": [],
   "source": [
    "%matplotlib inline\n",
    "plt.rcParams['font.size'] = 20\n",
    "plt.rcParams['figure.figsize'] = (50, 10)\n",
    "plt.rcParams['lines.linewidth'] = 5\n",
    "plt.rcParams['axes.grid'] = True"
   ]
  },
  {
   "cell_type": "code",
   "execution_count": null,
   "metadata": {},
   "outputs": [],
   "source": [
    "%%html\n",
    "<style>\n",
    "    table { display: inline-block}\n",
    "    .rendered_html td, .rendered_html th { text-align: left;}\n",
    "</style>    "
   ]
  },
  {
   "cell_type": "code",
   "execution_count": null,
   "metadata": {},
   "outputs": [],
   "source": [
    "# 2. 조건 및 파라미터 설정\n",
    "\n",
    "dict_args = dict()\n",
    "\n",
    "# 입력관련 설정\n",
    "dict_args['base_file'] = '..\\data\\creaditcard.csv'\n",
    "\n",
    "dict_args['id_col_name'] = 'Time'\n",
    "dict_args['target_col_name'] = 'Class'\n",
    "\n",
    "# 출력관련 설정\n",
    "dict_args['train_file'] = 'train_source.csv'\n",
    "dict_args['vaild_file'] = 'vaild_source.csv'\n",
    "dict_args['min_max_file'] = 'refs/min_max_file.csv'\n",
    "# 분할된 하나의 클래스에서 필요한 최소 건수\n",
    "dict_args['value_min_rows_count_in_class'] = 3\n",
    "# 샘플링으로 추출할 학습 비율(%)\n",
    "dict_args['train_ratio'] = 80\n",
    "\n",
    "dict_args['derived_1_file_source'] = dict_args['train_file']\n",
    "dict_args['derived_1_file_output'] = 'work/derived_1_file_output.csv'\n",
    "dict_args['derived_2_file_source'] = dict_args['derived_1_file_output']\n",
    "dict_args['derived_2_file_output'] = 'work/derived_2_file_output.csv'\n",
    "dict_args['derived_3_file_source'] = dict_args['derived_2_file_output']\n",
    "dict_args['derived_output'] = 'work/derived_output.csv'\n",
    "\n",
    "dict_args['information_value'] = 'work/reduce_information_value.csv'\n",
    "dict_args['feature_importance'] = 'work/reduce_feature_importance.csv'\n",
    "\n",
    "dict_args['cutoff_feature_importance'] = 0.01\n",
    "dict_args['cutoff_information_value'] = 0.1\n",
    "\n",
    "dict_args['source_data_file_train'] = 'train_source.csv'\n",
    "dict_args['target_data_file_train'] = 'train_output.csv'\n",
    "dict_args['source_data_file_valid'] = 'valid_source.csv'\n",
    "dict_args['source_data_file_valid'] = 'valid_output.csv'\n",
    "\n",
    "dict_args['model_file'] = 'zulu_trained_model_xgb.h5'\n",
    "\n",
    "dict_args['source_file'] = 'source.csv'\n",
    "\n",
    "if not os.path.exists('work'):\n",
    "    os.mkdir('work')\n",
    "if not os.path.exists('refs'):\n",
    "    os.mkdir('refs')\n"
   ]
  },
  {
   "cell_type": "code",
   "execution_count": null,
   "metadata": {},
   "outputs": [],
   "source": [
    "# 3. 데이터 로딩 및 확인\n",
    "\n",
    "df = pandas.read_csv(dict_args['base_file'])\n",
    "display(df)"
   ]
  },
  {
   "cell_type": "markdown",
   "metadata": {},
   "source": [
    "(2) 샘플링"
   ]
  },
  {
   "cell_type": "code",
   "execution_count": null,
   "metadata": {},
   "outputs": [],
   "source": [
    "# 1. 층화 추출 실행\n",
    "warnings.filterwarnings('ignore')\n",
    "split_file(dict_args)"
   ]
  },
  {
   "cell_type": "code",
   "execution_count": null,
   "metadata": {},
   "outputs": [],
   "source": [
    "# 2. 층화 추출 결과 확인\n",
    "\n",
    "df_train = pandas.read_csv(dict_args['train_file'])\n",
    "df_vaild = pandas.read_csv(dict_args['valid_file'])\n",
    "df_min_max = pandas.read_csv(dict_args['min_max_file'])\n",
    "display(df_train)\n",
    "display(df_vaild)\n",
    "display(df_min_max)\n",
    "print('Train:', numpy.sum(df_train[dict_args['target_col_name']]), ', Valid:', numpy.sum(df_vaild[dict_args['target_col_name']]))"
   ]
  },
  {
   "cell_type": "markdown",
   "metadata": {},
   "source": [
    "(3) 피처 엔지니어링"
   ]
  },
  {
   "cell_type": "code",
   "execution_count": null,
   "metadata": {},
   "outputs": [],
   "source": [
    "# 1. 수리적 파생변수 생성\n",
    "\n",
    "variable_derive_math(dict_args)\n",
    "variable_derive_group(dict_args)"
   ]
  },
  {
   "cell_type": "code",
   "execution_count": null,
   "metadata": {},
   "outputs": [],
   "source": [
    "# 1-1. 수리적 파생변수 생성 결과 확인\n",
    "\n",
    "df_derived_1 = pandas.read_csv(dict_args['derived_1_file_output'])\n",
    "df_derived_2 = pandas.read_csv(dict_args['derived_2_file_output'])\n",
    "display(df_derived_1)\n",
    "display(df_derived_2)\n",
    "  \n",
    "if dict_args['target_col_name'] in df_derived_1.columns:\n",
    "    print('df_derived_1', dict_args['target_col_name'])\n",
    "if dict_args['target_col_name'] in df_derived_2.columns:\n",
    "    print('df_derived_2', dict_args['target_col_name'])    "
   ]
  },
  {
   "cell_type": "code",
   "execution_count": null,
   "metadata": {},
   "outputs": [],
   "source": [
    "# 2. 정규화 데이터 생성\n",
    "\n",
    "variable_derive_normalization(dict_args)"
   ]
  },
  {
   "cell_type": "code",
   "execution_count": null,
   "metadata": {},
   "outputs": [],
   "source": [
    "# 2-1. 정규화 데이터 생성결과 확인\n",
    "\n",
    "derived_3_file_source = pandas.read_csv(dict_args['derived_3_file_source'])\n",
    "display(derived_3_file_source)\n",
    "df_derived_3 = pandas.read_csv(dict_args['derived_output'])\n",
    "display(df_derived_3)\n",
    "# print(list(df_derived_3.columns))"
   ]
  },
  {
   "cell_type": "code",
   "execution_count": null,
   "metadata": {},
   "outputs": [],
   "source": [
    "# 3. 정보가치(Information Value)\n",
    "\n",
    "warnings.filterwarnings('ignore')\n",
    "reduce_information_value(dict_args)"
   ]
  },
  {
   "cell_type": "code",
   "execution_count": null,
   "metadata": {},
   "outputs": [],
   "source": [
    "# 3-1. 정보가치(Information Value) 생성 결과 확인\n",
    "\n",
    "df_iv = pandas.read_csv(dict_args['information_value'])\n",
    "display(df_iv)"
   ]
  },
  {
   "cell_type": "code",
   "execution_count": null,
   "metadata": {},
   "outputs": [],
   "source": [
    "# 3-2. 정보가치(Information Value) 생성 결과 반영(1차 축소)\n",
    "\n",
    "df_iv = pandas.read_csv(dict_args['information_value'])\n",
    "df_iv = df_iv[df_iv['IV_VALUE'] > dict_args['cutoff_information_value']]\n",
    "list_reduceed_columns = [dict_args['id_col_name'], dict_args['target_col_name']]\n",
    "list_reduceed_columns.extend(df_iv['VAR_NAME'].tolist())\n",
    "df_derived_3 = pandas.read_csv(dict_args['derived_output'])\n",
    "df_derived_3 = df_derived_3[list_reduceed_columns]\n",
    "df_derived_3.to_csv('work/reduced.csv', index=None)\n",
    "display(df_derived_3)"
   ]
  },
  {
   "cell_type": "code",
   "execution_count": null,
   "metadata": {},
   "outputs": [],
   "source": [
    "# 4. Feature Importance\n",
    "\n",
    "dict_args['derived_output'] = 'work/'"
   ]
  },
  {
   "cell_type": "code",
   "execution_count": null,
   "metadata": {},
   "outputs": [],
   "source": []
  },
  {
   "cell_type": "code",
   "execution_count": null,
   "metadata": {},
   "outputs": [],
   "source": []
  }
 ],
 "metadata": {
  "interpreter": {
   "hash": "667d72b46b47f2c69cabca1cfde15ec99028a42406df5f577ea27223dd9dc29f"
  },
  "kernelspec": {
   "display_name": "Python 3.9.12 ('test-env')",
   "language": "python",
   "name": "python3"
  },
  "language_info": {
   "codemirror_mode": {
    "name": "ipython",
    "version": 3
   },
   "file_extension": ".py",
   "mimetype": "text/x-python",
   "name": "python",
   "nbconvert_exporter": "python",
   "pygments_lexer": "ipython3",
   "version": "3.9.12"
  },
  "orig_nbformat": 4
 },
 "nbformat": 4,
 "nbformat_minor": 2
}
